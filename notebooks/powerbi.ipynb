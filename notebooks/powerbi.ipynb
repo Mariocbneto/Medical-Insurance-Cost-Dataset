{
 "cells": [
  {
   "cell_type": "code",
   "execution_count": null,
   "id": "0a90830b",
   "metadata": {},
   "outputs": [
    {
     "name": "stdout",
     "output_type": "stream",
     "text": [
      "✅ Dataset pronto para Power BI!\n",
      "   AGE     SEX     BMI  CHILDREN SMOKER     REGION  CHARGES    BMI_CAT\n",
      "0   19  female  27.900         0    yes  southwest    16.88  Sobrepeso\n",
      "1   18    male  33.770         1     no  southeast     1.73      Obeso\n",
      "2   28    male  33.000         3     no  southeast     4.45      Obeso\n",
      "3   33    male  22.705         0     no  northwest    21.98     Normal\n",
      "4   32    male  28.880         0     no  northwest     3.87  Sobrepeso\n"
     ]
    }
   ],
   "source": [
    "import pandas as pd\n",
    "\n",
    "\n",
    "df = pd.read_csv(\"../data/insurance.csv\")  \n",
    "\n",
    "\n",
    "df.columns = (\n",
    "    df.columns.str.strip()\n",
    "              .str.upper()\n",
    "              .str.replace(' ', '_')\n",
    "              .str.replace('[^0-9A-Z_]', '', regex=True)\n",
    ")\n",
    "\n",
    "\n",
    "df['CHARGES'] = df['CHARGES'].astype(float)\n",
    "\n",
    "# Corrigir escala: dividir por 1000 se os valores estão muito altos\n",
    "# Ajuste esse fator se necessário\n",
    "df['CHARGES'] = (df['CHARGES'] / 1000).round(2)\n",
    "\n",
    "df['BMI_CAT'] = pd.cut(\n",
    "    df['BMI'],\n",
    "    bins=[0, 18.5, 25, 30, 100],\n",
    "    labels=['Abaixo do peso', 'Normal', 'Sobrepeso', 'Obeso']\n",
    ")\n",
    "\n",
    "\n",
    "df.to_csv(\"insurance_cleaned_bmi_parapowerbi.csv\", index=False)\n",
    "\n",
    "print(\"✅ Dataset pronto para Power BI!\")\n",
    "print(df.head())\n"
   ]
  }
 ],
 "metadata": {
  "kernelspec": {
   "display_name": "Python 3",
   "language": "python",
   "name": "python3"
  },
  "language_info": {
   "codemirror_mode": {
    "name": "ipython",
    "version": 3
   },
   "file_extension": ".py",
   "mimetype": "text/x-python",
   "name": "python",
   "nbconvert_exporter": "python",
   "pygments_lexer": "ipython3",
   "version": "3.13.1"
  }
 },
 "nbformat": 4,
 "nbformat_minor": 5
}
