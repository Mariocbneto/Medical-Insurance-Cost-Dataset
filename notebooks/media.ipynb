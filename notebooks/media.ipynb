{
 "cells": [
  {
   "cell_type": "code",
   "execution_count": 1,
   "id": "03123e52",
   "metadata": {},
   "outputs": [],
   "source": [
    "import pandas as pd\n",
    "import matplotlib.pyplot as plt\n",
    "import seaborn as sns\n",
    "import matplotlib.ticker as mtick\n",
    "\n",
    "\n",
    "df = pd.read_csv(\"../data/insurance_cleaned.csv\")  \n",
    "\n",
    "\n",
    "df.columns = (\n",
    "    df.columns.str.strip()\n",
    "              .str.upper()               \n",
    "              .str.replace(' ', '_')     \n",
    "              .str.replace('[^0-9A-Z_]', '', regex=True)\n",
    ")"
   ]
  },
  {
   "cell_type": "code",
   "execution_count": 2,
   "id": "2a0a7e22",
   "metadata": {},
   "outputs": [
    {
     "name": "stdout",
     "output_type": "stream",
     "text": [
      "💰 Custo médio anual do seguro: $13,279.12\n",
      "🚬 Fumantes: $32,050.23, Não fumantes: $8,440.66\n"
     ]
    }
   ],
   "source": [
    "media_charges = df['CHARGES'].mean()\n",
    "print(f\"💰 Custo médio anual do seguro: ${media_charges:,.2f}\")\n",
    "\n",
    "\n",
    "media_fumantes = df[df['SMOKER'] == 'yes']['CHARGES'].mean()\n",
    "media_nao_fumantes = df[df['SMOKER'] == 'no']['CHARGES'].mean()\n",
    "print(f\"🚬 Fumantes: ${media_fumantes:,.2f}, Não fumantes: ${media_nao_fumantes:,.2f}\")"
   ]
  },
  {
   "cell_type": "code",
   "execution_count": 3,
   "id": "44c754ca",
   "metadata": {},
   "outputs": [
    {
     "name": "stdout",
     "output_type": "stream",
     "text": [
      "\n",
      "⚖️ Custo médio por categoria de BMI:\n",
      "BMI_CAT\n",
      "Abaixo do peso     $8,657.62\n",
      "Normal            $10,435.44\n",
      "Sobrepeso         $10,997.80\n",
      "Obeso             $15,580.70\n",
      "Name: CHARGES, dtype: object\n"
     ]
    },
    {
     "name": "stderr",
     "output_type": "stream",
     "text": [
      "C:\\Users\\Mario\\AppData\\Local\\Temp\\ipykernel_23148\\319908134.py:3: FutureWarning: The default of observed=False is deprecated and will be changed to True in a future version of pandas. Pass observed=False to retain current behavior or observed=True to adopt the future default and silence this warning.\n",
      "  media_bmi_formatada = df.groupby('BMI_CAT')['CHARGES'].mean().apply(lambda x: f\"${x:,.2f}\")\n"
     ]
    }
   ],
   "source": [
    "df['BMI_CAT'] = pd.cut(df['BMI'], bins=[0, 18.5, 25, 30, 100],\n",
    "                       labels=['Abaixo do peso', 'Normal', 'Sobrepeso', 'Obeso'])\n",
    "media_bmi_formatada = df.groupby('BMI_CAT')['CHARGES'].mean().apply(lambda x: f\"${x:,.2f}\")\n",
    "print(\"\\n⚖️ Custo médio por categoria de BMI:\")\n",
    "print(media_bmi_formatada)"
   ]
  },
  {
   "cell_type": "code",
   "execution_count": 4,
   "id": "1892fc4c",
   "metadata": {},
   "outputs": [
    {
     "name": "stdout",
     "output_type": "stream",
     "text": [
      "\n",
      "👶 Custo médio por número de filhos:\n",
      "0 filhos: $12,384.70\n",
      "1 filhos: $12,731.17\n",
      "2 filhos: $15,073.56\n",
      "3 filhos: $15,355.32\n",
      "4 filhos: $13,850.66\n",
      "5 filhos: $8,786.04\n"
     ]
    }
   ],
   "source": [
    "media_por_filhos = df.groupby('CHILDREN')['CHARGES'].mean()\n",
    "print(\"\\n👶 Custo médio por número de filhos:\")\n",
    "for filhos, valor in media_por_filhos.items():\n",
    "    print(f\"{filhos} filhos: ${valor:,.2f}\")\n"
   ]
  },
  {
   "cell_type": "code",
   "execution_count": 5,
   "id": "022e7202",
   "metadata": {},
   "outputs": [
    {
     "name": "stderr",
     "output_type": "stream",
     "text": [
      "C:\\Users\\Mario\\AppData\\Local\\Temp\\ipykernel_23148\\63714283.py:3: FutureWarning: \n",
      "\n",
      "Passing `palette` without assigning `hue` is deprecated and will be removed in v0.14.0. Assign the `x` variable to `hue` and set `legend=False` for the same effect.\n",
      "\n",
      "  sns.barplot(x=media_por_filhos.index, y=media_por_filhos.values, palette=\"coolwarm\")\n"
     ]
    },
    {
     "data": {
      "image/png": "[encoded data removed]",
      "text/plain": [
       "<Figure size 800x400 with 1 Axes>"
      ]
     },
     "metadata": {},
     "output_type": "display_data"
    },
    {
     "name": "stdout",
     "output_type": "stream",
     "text": [
      "\n",
      "🤖 Machine Learning:\n",
      "Modelo Random Forest Regressor consegue prever o custo do seguro com:\n",
      "• R² ~ 0.88 → explica ~88% da variação do custo\n",
      "• RMSE ~ $4,700 → erro médio nas previsões\n",
      "As features mais importantes para previsão são: Fumante, BMI, Idade, Sexo, Número de filhos e Região.\n",
      "Isso complementa os insights anteriores, permitindo estimar o custo individualmente.\n"
     ]
    }
   ],
   "source": [
    "\n",
    "# Gráfico número de filhos x custo médio\n",
    "plt.figure(figsize=(8,4))\n",
    "sns.barplot(x=media_por_filhos.index, y=media_por_filhos.values, palette=\"coolwarm\")\n",
    "plt.gca().yaxis.set_major_formatter(mtick.StrMethodFormatter('${x:,.0f}'))\n",
    "plt.title(\"Número de Filhos x Custo Médio do Seguro\")\n",
    "plt.xlabel(\"Número de Filhos\")\n",
    "plt.ylabel(\"Custo Médio ($)\")\n",
    "plt.show()\n",
    "\n",
    "# Insight de ML\n",
    "print(\"\\n🤖 Machine Learning:\")\n",
    "print(\"Modelo Random Forest Regressor consegue prever o custo do seguro com:\")\n",
    "print(\"• R² ~ 0.88 → explica ~88% da variação do custo\")\n",
    "print(\"• RMSE ~ $4,700 → erro médio nas previsões\")\n",
    "print(\"As features mais importantes para previsão são: Fumante, BMI, Idade, Sexo, Número de filhos e Região.\")\n",
    "print(\"Isso complementa os insights anteriores, permitindo estimar o custo individualmente.\")\n"
   ]
  }
 ],
 "metadata": {
  "kernelspec": {
   "display_name": "Python 3",
   "language": "python",
   "name": "python3"
  },
  "language_info": {
   "codemirror_mode": {
    "name": "ipython",
    "version": 3
   },
   "file_extension": ".py",
   "mimetype": "text/x-python",
   "name": "python",
   "nbconvert_exporter": "python",
   "pygments_lexer": "ipython3",
   "version": "3.13.1"
  }
 },
 "nbformat": 4,
 "nbformat_minor": 5
}
